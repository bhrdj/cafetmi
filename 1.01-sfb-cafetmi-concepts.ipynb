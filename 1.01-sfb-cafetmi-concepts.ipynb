{
 "cells": [
  {
   "cell_type": "markdown",
   "id": "c3528d41-5d36-4114-9425-e52b638a3082",
   "metadata": {},
   "source": [
    "# cafetmi concepts"
   ]
  },
  {
   "cell_type": "markdown",
   "id": "67871b80-03f2-4d01-a38f-7b01b70361d0",
   "metadata": {
    "tags": []
   },
   "source": [
    "## ideas"
   ]
  },
  {
   "cell_type": "markdown",
   "id": "73c451d0-dcc7-4ffa-a7ae-d29d6b55114a",
   "metadata": {
    "jp-MarkdownHeadingCollapsed": true,
    "tags": []
   },
   "source": [
    "### faces"
   ]
  },
  {
   "cell_type": "markdown",
   "id": "eb8dd9be-2be4-42b4-b6dc-092b6cdbdfc2",
   "metadata": {},
   "source": [
    "- identify faces from security cameras and display pics and video clips on screens\n",
    "    - watch for changes in facial expression and use clips including those moments\n",
    "    - figure out when people make eye contact and show those clips"
   ]
  },
  {
   "cell_type": "markdown",
   "id": "34aaf0c0-a06e-44d2-85e7-c0729614b5d6",
   "metadata": {},
   "source": [
    "### voices"
   ]
  },
  {
   "cell_type": "markdown",
   "id": "9b6950ad-8525-48cc-aede-4bf60359ffce",
   "metadata": {},
   "source": [
    "- transcribe speech to text and display on screens"
   ]
  },
  {
   "cell_type": "markdown",
   "id": "22033949-33d9-419a-bbaf-cad88d83978a",
   "metadata": {
    "jp-MarkdownHeadingCollapsed": true,
    "tags": []
   },
   "source": [
    "### other"
   ]
  },
  {
   "cell_type": "markdown",
   "id": "2b448626-0b29-4c82-a21a-d4a331bd625c",
   "metadata": {},
   "source": [
    "- clothes\n",
    "- touchscreens\n",
    "- movement\n",
    "- wifi network names\n",
    "- sonar\n",
    "- infrared\n",
    "- lidar"
   ]
  },
  {
   "cell_type": "markdown",
   "id": "da7d25f7-333e-4b10-bffc-3c4e6ccbad26",
   "metadata": {},
   "source": [
    "## proof of concept"
   ]
  },
  {
   "cell_type": "markdown",
   "id": "61e78916-1c5f-47c8-9713-1dae0ed37793",
   "metadata": {
    "jp-MarkdownHeadingCollapsed": true,
    "tags": []
   },
   "source": [
    "### face recognition"
   ]
  },
  {
   "cell_type": "markdown",
   "id": "36a4b165-082c-450a-81bc-a2e63383126c",
   "metadata": {
    "jp-MarkdownHeadingCollapsed": true,
    "tags": []
   },
   "source": [
    "#### still images (working)"
   ]
  },
  {
   "cell_type": "code",
   "execution_count": 10,
   "id": "e0c6c272-0f2c-4664-9527-da24d220632c",
   "metadata": {},
   "outputs": [],
   "source": [
    "import os, cv2"
   ]
  },
  {
   "cell_type": "code",
   "execution_count": 21,
   "id": "76ca06c9-f044-406f-8646-0273aeb4203a",
   "metadata": {},
   "outputs": [
    {
     "data": {
      "text/plain": [
       "['AyJy2017.jpg',\n",
       " 'DocScanner Nov 28, 2022 12-47.jpg',\n",
       " 'Document 39_1.jpg',\n",
       " 'Document 39_2.jpg']"
      ]
     },
     "execution_count": 21,
     "metadata": {},
     "output_type": "execute_result"
    }
   ],
   "source": [
    "image_filenames = os.listdir('test_images')\n",
    "image_filenames = list(filter(lambda x: x[-4:]=='.jpg', image_filenames))\n",
    "image_filenames"
   ]
  },
  {
   "cell_type": "code",
   "execution_count": 26,
   "id": "2b541b64-3aeb-45b0-9749-5ab77657e3ce",
   "metadata": {},
   "outputs": [],
   "source": [
    "image_index = 0\n",
    "image_path = f'./test_images/{image_filenames[image_index]}'"
   ]
  },
  {
   "cell_type": "code",
   "execution_count": 31,
   "id": "e1114a51-5387-4fde-b131-6916918321a3",
   "metadata": {},
   "outputs": [],
   "source": [
    "path_cascade = './pretrained_models/haarcascade_frontalface_alt2.xml'\n",
    "face_cascade = cv2.CascadeClassifier(path_cascade) # Load the cascade\n",
    "\n",
    "img = cv2.imread(image_path) # Read the input image\n",
    "gray = cv2.cvtColor(img, cv2.COLOR_BGR2GRAY) # Convert into grayscale\n",
    "faces = face_cascade.detectMultiScale( # Detect faces\n",
    "    gray, \n",
    "    scaleFactor=1.1, \n",
    "    minNeighbors=6,\n",
    "    minSize=(30,30),\n",
    "    flags=cv2.CASCADE_SCALE_IMAGE\n",
    "    )\n",
    "for (x, y, w, h) in faces: # Draw a rectangle around each face\n",
    "    cv2.rectangle(img, (x, y), (x+w, y+h), (255, 0, 0), 2)\n",
    "\n",
    "cv2.imshow('img', img) # Display the output\n",
    "cv2.waitKey(5000)\n",
    "cv2.destroyAllWindows()"
   ]
  },
  {
   "cell_type": "markdown",
   "id": "91c3b583-b6b0-428e-b1ec-fb7efa36971c",
   "metadata": {},
   "source": [
    "#### video stream from webcam"
   ]
  },
  {
   "cell_type": "markdown",
   "id": "4beca09d-a9cc-4409-b135-be4eb4973d0b",
   "metadata": {},
   "source": [
    "(need to use something other than my chromebook)"
   ]
  },
  {
   "cell_type": "markdown",
   "id": "12bf4e67-98d6-49bb-9212-c54039a44e0f",
   "metadata": {},
   "source": [
    "### voices"
   ]
  },
  {
   "cell_type": "code",
   "execution_count": null,
   "id": "dd230f64-32ba-4fdb-8d47-731f3ac9ba55",
   "metadata": {},
   "outputs": [],
   "source": []
  }
 ],
 "metadata": {
  "kernelspec": {
   "display_name": "Python 3 (ipykernel)",
   "language": "python",
   "name": "python3"
  },
  "language_info": {
   "codemirror_mode": {
    "name": "ipython",
    "version": 3
   },
   "file_extension": ".py",
   "mimetype": "text/x-python",
   "name": "python",
   "nbconvert_exporter": "python",
   "pygments_lexer": "ipython3",
   "version": "3.10.9"
  }
 },
 "nbformat": 4,
 "nbformat_minor": 5
}
