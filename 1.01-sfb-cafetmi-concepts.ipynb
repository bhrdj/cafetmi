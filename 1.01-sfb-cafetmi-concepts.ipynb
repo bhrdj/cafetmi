{
 "cells": [
  {
   "cell_type": "markdown",
   "id": "c3528d41-5d36-4114-9425-e52b638a3082",
   "metadata": {},
   "source": [
    "# cafetmi concepts"
   ]
  },
  {
   "cell_type": "markdown",
   "id": "67871b80-03f2-4d01-a38f-7b01b70361d0",
   "metadata": {
    "jp-MarkdownHeadingCollapsed": true,
    "tags": []
   },
   "source": [
    "## ideas"
   ]
  },
  {
   "cell_type": "markdown",
   "id": "73c451d0-dcc7-4ffa-a7ae-d29d6b55114a",
   "metadata": {},
   "source": [
    "### faces"
   ]
  },
  {
   "cell_type": "markdown",
   "id": "eb8dd9be-2be4-42b4-b6dc-092b6cdbdfc2",
   "metadata": {},
   "source": [
    "- identify faces from security cameras and display pics and video clips on screens\n",
    "    - watch for changes in facial expression and use clips including those moments\n",
    "    - figure out when people make eye contact and show those clips"
   ]
  },
  {
   "cell_type": "markdown",
   "id": "34aaf0c0-a06e-44d2-85e7-c0729614b5d6",
   "metadata": {},
   "source": [
    "### voices"
   ]
  },
  {
   "cell_type": "markdown",
   "id": "9b6950ad-8525-48cc-aede-4bf60359ffce",
   "metadata": {},
   "source": [
    "- transcribe speech to text and display on screens"
   ]
  },
  {
   "cell_type": "markdown",
   "id": "22033949-33d9-419a-bbaf-cad88d83978a",
   "metadata": {},
   "source": [
    "### other"
   ]
  },
  {
   "cell_type": "markdown",
   "id": "2b448626-0b29-4c82-a21a-d4a331bd625c",
   "metadata": {},
   "source": [
    "- clothes\n",
    "- touchscreens\n",
    "- movement\n",
    "- wifi network names\n",
    "- sonar\n",
    "- infrared\n",
    "- lidar"
   ]
  },
  {
   "cell_type": "markdown",
   "id": "da7d25f7-333e-4b10-bffc-3c4e6ccbad26",
   "metadata": {},
   "source": [
    "## proof of concept"
   ]
  },
  {
   "cell_type": "code",
   "execution_count": null,
   "id": "17cd0db1-950c-45ef-9122-4dff73a99478",
   "metadata": {},
   "outputs": [],
   "source": []
  },
  {
   "cell_type": "code",
   "execution_count": null,
   "id": "e1114a51-5387-4fde-b131-6916918321a3",
   "metadata": {},
   "outputs": [],
   "source": [
    "import cv2\n",
    "# Load the cascade\n",
    "path_cascade = '../pretrained_models/haarcascade_frontalface_default.xml'\n",
    "face_cascade = cv2.CascadeClassifier(path_cascade)\n",
    "# Read the input image\n",
    "img = cv2.imread('test.jpg')\n",
    "# Convert into grayscale\n",
    "gray = cv2.cvtColor(img, cv2.COLOR_BGR2GRAY)\n",
    "# Detect faces\n",
    "faces = face_cascade.detectMultiScale(gray, 1.1, 4)\n",
    "# Draw rectangle around the faces\n",
    "for (x, y, w, h) in faces:\n",
    "    cv2.rectangle(img, (x, y), (x+w, y+h), (255, 0, 0), 2)\n",
    "# Display the output\n",
    "cv2.imshow('img', img)\n",
    "cv2.waitKey()"
   ]
  },
  {
   "cell_type": "code",
   "execution_count": null,
   "id": "713aa186-bec0-4f8e-96c6-eb674f7f5682",
   "metadata": {},
   "outputs": [],
   "source": []
  }
 ],
 "metadata": {
  "kernelspec": {
   "display_name": "Python 3 (ipykernel)",
   "language": "python",
   "name": "python3"
  },
  "language_info": {
   "codemirror_mode": {
    "name": "ipython",
    "version": 3
   },
   "file_extension": ".py",
   "mimetype": "text/x-python",
   "name": "python",
   "nbconvert_exporter": "python",
   "pygments_lexer": "ipython3",
   "version": "3.10.9"
  }
 },
 "nbformat": 4,
 "nbformat_minor": 5
}
