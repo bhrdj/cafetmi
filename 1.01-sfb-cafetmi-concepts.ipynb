{
 "cells": [
  {
   "cell_type": "markdown",
   "id": "c3528d41-5d36-4114-9425-e52b638a3082",
   "metadata": {},
   "source": [
    "# cafetmi concepts"
   ]
  },
  {
   "cell_type": "markdown",
   "id": "67871b80-03f2-4d01-a38f-7b01b70361d0",
   "metadata": {
    "jp-MarkdownHeadingCollapsed": true,
    "tags": []
   },
   "source": [
    "## ideas"
   ]
  },
  {
   "cell_type": "markdown",
   "id": "73c451d0-dcc7-4ffa-a7ae-d29d6b55114a",
   "metadata": {},
   "source": [
    "### faces"
   ]
  },
  {
   "cell_type": "markdown",
   "id": "eb8dd9be-2be4-42b4-b6dc-092b6cdbdfc2",
   "metadata": {},
   "source": [
    "- identify faces from security cameras and display pics and video clips on screens\n",
    "    - watch for changes in facial expression and use clips including those moments\n",
    "    - figure out when people make eye contact and show those clips"
   ]
  },
  {
   "cell_type": "markdown",
   "id": "34aaf0c0-a06e-44d2-85e7-c0729614b5d6",
   "metadata": {},
   "source": [
    "### voices"
   ]
  },
  {
   "cell_type": "markdown",
   "id": "9b6950ad-8525-48cc-aede-4bf60359ffce",
   "metadata": {},
   "source": [
    "- transcribe speech to text and display on screens"
   ]
  },
  {
   "cell_type": "markdown",
   "id": "22033949-33d9-419a-bbaf-cad88d83978a",
   "metadata": {},
   "source": [
    "### other"
   ]
  },
  {
   "cell_type": "markdown",
   "id": "2b448626-0b29-4c82-a21a-d4a331bd625c",
   "metadata": {},
   "source": [
    "- clothes\n",
    "- touchscreens\n",
    "- movement\n",
    "- wifi network names\n",
    "- sonar\n",
    "- infrared\n",
    "- lidar"
   ]
  },
  {
   "cell_type": "markdown",
   "id": "da7d25f7-333e-4b10-bffc-3c4e6ccbad26",
   "metadata": {},
   "source": [
    "## proof of concept"
   ]
  },
  {
   "cell_type": "code",
   "execution_count": 1,
   "id": "0c45482c-c54c-4821-a63d-a0fbe4a2456c",
   "metadata": {},
   "outputs": [
    {
     "name": "stdout",
     "output_type": "stream",
     "text": [
      "Collecting opencv-python\n",
      "  Downloading opencv_python-4.7.0.72-cp37-abi3-manylinux_2_17_x86_64.manylinux2014_x86_64.whl (61.8 MB)\n",
      "\u001b[2K     \u001b[38;2;114;156;31m━━━━━━━━━━━━━━━━━━━━━━━━━━━━━━━━━━━━━━━━\u001b[0m \u001b[32m61.8/61.8 MB\u001b[0m \u001b[31m2.5 MB/s\u001b[0m eta \u001b[36m0:00:00\u001b[0mm eta \u001b[36m0:00:01\u001b[0m[36m0:00:01\u001b[0mm\n",
      "\u001b[?25hRequirement already satisfied: numpy>=1.17.0 in /home/bhrdwj/anaconda3/envs/py310/lib/python3.10/site-packages (from opencv-python) (1.24.1)\n",
      "Installing collected packages: opencv-python\n",
      "Successfully installed opencv-python-4.7.0.72\n"
     ]
    }
   ],
   "source": [
    "!pip install opencv-python"
   ]
  },
  {
   "cell_type": "code",
   "execution_count": null,
   "id": "e1114a51-5387-4fde-b131-6916918321a3",
   "metadata": {},
   "outputs": [],
   "source": []
  }
 ],
 "metadata": {
  "kernelspec": {
   "display_name": "Python 3 (ipykernel)",
   "language": "python",
   "name": "python3"
  },
  "language_info": {
   "codemirror_mode": {
    "name": "ipython",
    "version": 3
   },
   "file_extension": ".py",
   "mimetype": "text/x-python",
   "name": "python",
   "nbconvert_exporter": "python",
   "pygments_lexer": "ipython3",
   "version": "3.10.9"
  }
 },
 "nbformat": 4,
 "nbformat_minor": 5
}
